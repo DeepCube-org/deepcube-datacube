{
 "cells": [
  {
   "cell_type": "code",
   "execution_count": null,
   "id": "99be6d25",
   "metadata": {},
   "outputs": [],
   "source": [
    "import xarray as xr\n",
    "import fsspec\n",
    "url = 'https://storage.de.cloud.ovh.net/v1/AUTH_84d6da8e37fe4bb5aea18902da8c1170/uc1/uc1cube.zarr'\n",
    "ds = xr.open_zarr(fsspec.get_mapper(url), consolidated=True)"
   ]
  },
  {
   "cell_type": "code",
   "execution_count": null,
   "id": "1574f189",
   "metadata": {},
   "outputs": [],
   "source": [
    "ds"
   ]
  },
  {
   "cell_type": "markdown",
   "id": "b6a4f39e",
   "metadata": {},
   "source": [
    "Download a minicube time series for a single band:"
   ]
  },
  {
   "cell_type": "code",
   "execution_count": null,
   "id": "e9d60512",
   "metadata": {},
   "outputs": [],
   "source": [
    "onecube = ds.sel(minicubes = 2, band='B04').Minicubes.compute()"
   ]
  },
  {
   "cell_type": "markdown",
   "id": "7ebdcc5c",
   "metadata": {},
   "source": [
    "And make a plot:"
   ]
  },
  {
   "cell_type": "code",
   "execution_count": null,
   "id": "85fc2c8c",
   "metadata": {},
   "outputs": [],
   "source": [
    "import numpy as np\n",
    "onecube.isel(time=14).plot()"
   ]
  },
  {
   "cell_type": "code",
   "execution_count": null,
   "id": "d7ac9a60",
   "metadata": {},
   "outputs": [],
   "source": []
  }
 ],
 "metadata": {
  "kernelspec": {
   "display_name": "Python 3",
   "language": "python",
   "name": "python3"
  },
  "language_info": {
   "codemirror_mode": {
    "name": "ipython",
    "version": 3
   },
   "file_extension": ".py",
   "mimetype": "text/x-python",
   "name": "python",
   "nbconvert_exporter": "python",
   "pygments_lexer": "ipython3",
   "version": "3.8.5"
  }
 },
 "nbformat": 4,
 "nbformat_minor": 5
}
