{
 "cells": [
  {
   "cell_type": "code",
   "execution_count": null,
   "id": "ad973c58",
   "metadata": {},
   "outputs": [],
   "source": [
    "using ESDL, ESDLPlots"
   ]
  },
  {
   "cell_type": "code",
   "execution_count": null,
   "id": "e63cf1a3",
   "metadata": {},
   "outputs": [],
   "source": [
    "ds = open_dataset(\"https://storage.de.cloud.ovh.net/v1/AUTH_84d6da8e37fe4bb5aea18902da8c1170/uc3/uc3cube.zarr\")"
   ]
  },
  {
   "cell_type": "code",
   "execution_count": null,
   "id": "0a5387e4",
   "metadata": {},
   "outputs": [],
   "source": [
    "plotTS(ds.Fpar_500m[x = 21.9, y=39.05])"
   ]
  },
  {
   "cell_type": "code",
   "execution_count": null,
   "id": "4f0a6d7a",
   "metadata": {},
   "outputs": [],
   "source": []
  }
 ],
 "metadata": {
  "@webio": {
   "lastCommId": null,
   "lastKernelId": null
  },
  "kernelspec": {
   "display_name": "Julia 1.6.0",
   "language": "julia",
   "name": "julia-1.6"
  },
  "language_info": {
   "file_extension": ".jl",
   "mimetype": "application/julia",
   "name": "julia",
   "version": "1.6.0"
  }
 },
 "nbformat": 4,
 "nbformat_minor": 5
}
